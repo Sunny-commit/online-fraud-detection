{
 "cells": [
  {
   "cell_type": "code",
   "execution_count": null,
   "id": "7fb998eb-7e4f-40f6-bd08-f4f9f608ef57",
   "metadata": {},
   "outputs": [],
   "source": [
    "import pandas as pd\n",
    "import numpy as np\n",
    "data=pd.read_csv(\"credit card.csv\")\n",
    "data.read()"
   ]
  },
  {
   "cell_type": "code",
   "execution_count": null,
   "id": "abf7a125-9575-4510-8a65-1f0c33ac2a3c",
   "metadata": {},
   "outputs": [],
   "source": [
    "data.isnull().sum()"
   ]
  },
  {
   "cell_type": "code",
   "execution_count": null,
   "id": "f771bb3a-f809-4b78-bb7d-e5304e75eae1",
   "metadata": {},
   "outputs": [],
   "source": [
    "# Exploring transaction type\n",
    "data.type.value_counts()"
   ]
  },
  {
   "cell_type": "code",
   "execution_count": null,
   "id": "9891b0c8-2bb7-419b-bb3a-0f1d496fb62a",
   "metadata": {},
   "outputs": [],
   "source": [
    "type=data['type'].value_counts()\n",
    "transactions=type.index\n",
    "quantity=type.values\n",
    "\n",
    "import plotly.express as px\n",
    "figure=px.pie(data,values=quanity,names=transactions,hole=0.5,title='Distribution of Transaction Type')\n",
    "figure.show()"
   ]
  },
  {
   "cell_type": "code",
   "execution_count": null,
   "id": "9f09c07c-2399-4bf4-b005-99df735eb351",
   "metadata": {},
   "outputs": [],
   "source": [
    "correlation=data.corr()\n",
    "print(correlation['isFraud'].sort_values(ascending=False))"
   ]
  },
  {
   "cell_type": "code",
   "execution_count": null,
   "id": "48b1e56c-21ad-4948-9ac1-c0a1ea34f675",
   "metadata": {},
   "outputs": [],
   "source": [
    "# Transforming the categorical to numerical\n",
    "\n",
    "data['type']=data['type'].map({'CASH_OUT':1,'PAYOUT':2,'CASH_IN':3,'TRANSFER':4,'DEBIT':5})\n",
    "data['isFraud']=data['isFraud'].map({0:'No Fraud',1:'Fraud'})\n",
    "data.head()"
   ]
  },
  {
   "cell_type": "code",
   "execution_count": null,
   "id": "cadec72b-7d2f-460a-a04a-4775dc359c55",
   "metadata": {},
   "outputs": [],
   "source": [
    "# online payments Fraud Detection Model\n",
    "from sklearn.model_selection import train_test_split\n",
    "x=np.array(data[['type','amount','oldbalanceOrg','newbalanceOrig']])\n",
    "y=np.array(data[['isFraud']])"
   ]
  },
  {
   "cell_type": "code",
   "execution_count": null,
   "id": "e2d6d356-592c-4901-81c1-7fcb3440d52d",
   "metadata": {},
   "outputs": [],
   "source": [
    "from sklearn.tree import DecisionTreeClassifier\n",
    "x_train,x_test,y_train,y_test=train_test_split(x,y,test_size=0.2,random_state=42)"
   ]
  },
  {
   "cell_type": "code",
   "execution_count": null,
   "id": "b46e348d-1b24-43ba-96eb-e540189ef8c9",
   "metadata": {},
   "outputs": [],
   "source": [
    "model=DecisionTreeClassifier()\n",
    "model.fit(x_train,y_train)\n",
    "model.score(xtest,ytest)"
   ]
  },
  {
   "cell_type": "code",
   "execution_count": null,
   "id": "24dabf66-2467-4bd1-b657-401ae73f059c",
   "metadata": {},
   "outputs": [],
   "source": [
    "#prediction\n",
    "features=np.array([[4,9000.60,9000.60,0.0]])\n",
    "model.predict(features)"
   ]
  },
  {
   "cell_type": "code",
   "execution_count": null,
   "id": "78a184b3-31b7-4975-b538-7bd2fc5b4fb4",
   "metadata": {},
   "outputs": [],
   "source": []
  },
  {
   "cell_type": "code",
   "execution_count": null,
   "id": "02a5402a-1943-4225-9a10-f08a459ecdca",
   "metadata": {},
   "outputs": [],
   "source": []
  },
  {
   "cell_type": "code",
   "execution_count": null,
   "id": "e9bc69e7-8bb4-4efd-832f-1ede76144b91",
   "metadata": {},
   "outputs": [],
   "source": []
  },
  {
   "cell_type": "code",
   "execution_count": null,
   "id": "9668ed85-9f1b-4335-a0da-1d7c15fd4f2b",
   "metadata": {},
   "outputs": [],
   "source": []
  },
  {
   "cell_type": "code",
   "execution_count": null,
   "id": "d6b55963-7401-45a2-854e-ab50020afedc",
   "metadata": {},
   "outputs": [],
   "source": []
  },
  {
   "cell_type": "code",
   "execution_count": null,
   "id": "99ea9405-c060-40d9-b20b-05cc00b3b3e8",
   "metadata": {},
   "outputs": [],
   "source": []
  }
 ],
 "metadata": {
  "kernelspec": {
   "display_name": "Python 3 (ipykernel)",
   "language": "python",
   "name": "python3"
  },
  "language_info": {
   "codemirror_mode": {
    "name": "ipython",
    "version": 3
   },
   "file_extension": ".py",
   "mimetype": "text/x-python",
   "name": "python",
   "nbconvert_exporter": "python",
   "pygments_lexer": "ipython3",
   "version": "3.9.13"
  }
 },
 "nbformat": 4,
 "nbformat_minor": 5
}
